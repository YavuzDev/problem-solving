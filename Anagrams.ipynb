{
 "cells": [
  {
   "cell_type": "code",
   "execution_count": 8,
   "metadata": {
    "collapsed": true,
    "pycharm": {
     "name": "#%%\n"
    }
   },
   "outputs": [],
   "source": [
    "words = open(\"words.txt\").read().splitlines()\n"
   ]
  },
  {
   "cell_type": "markdown",
   "source": [
    "First we read the file in a list.\n",
    "Each element in the list will be a line from the file.\n",
    "So each element will be a single word in this case."
   ],
   "metadata": {
    "collapsed": false
   }
  },
  {
   "cell_type": "code",
   "execution_count": 9,
   "outputs": [],
   "source": [
    "anagrams = {}\n",
    "for word in words:\n",
    "    key = \"\".join(sorted(word.lower()))\n",
    "    if key in anagrams:\n",
    "        anagrams[key].append(word)\n",
    "    else:\n",
    "        anagrams[key] = [word]"
   ],
   "metadata": {
    "collapsed": false,
    "pycharm": {
     "name": "#%%\n"
    }
   }
  },
  {
   "cell_type": "markdown",
   "source": [
    "By using a dictionary, future look ups will be O(1).\n",
    "The key for the dictionary will be the word sorted as this will be the same for\n",
    "all anagrams.\n",
    "The value is a list of words that match the key."
   ],
   "metadata": {
    "collapsed": false
   }
  },
  {
   "cell_type": "code",
   "execution_count": 10,
   "outputs": [
    {
     "data": {
      "text/plain": "['boko', 'Book', 'kobo']"
     },
     "execution_count": 10,
     "metadata": {},
     "output_type": "execute_result"
    }
   ],
   "source": [
    "test_word = \"\".join(sorted(\"book\"))\n",
    "anagrams[test_word]"
   ],
   "metadata": {
    "collapsed": false,
    "pycharm": {
     "name": "#%%\n"
    }
   }
  },
  {
   "cell_type": "markdown",
   "source": [
    "As you can see, it finds the correct anagrams for the word."
   ],
   "metadata": {
    "collapsed": false
   }
  }
 ],
 "metadata": {
  "kernelspec": {
   "display_name": "Python 3",
   "language": "python",
   "name": "python3"
  },
  "language_info": {
   "codemirror_mode": {
    "name": "ipython",
    "version": 2
   },
   "file_extension": ".py",
   "mimetype": "text/x-python",
   "name": "python",
   "nbconvert_exporter": "python",
   "pygments_lexer": "ipython2",
   "version": "2.7.6"
  }
 },
 "nbformat": 4,
 "nbformat_minor": 0
}