{
 "cells": [
  {
   "cell_type": "code",
   "execution_count": 15,
   "metadata": {
    "collapsed": true
   },
   "outputs": [],
   "source": [
    "values = [0, 5, 9, 12, 20, 22, 23, 40, 56]"
   ]
  },
  {
   "cell_type": "markdown",
   "source": [
    "Initializing the list of values to search for in.\n",
    "The list has to be sorted to be able to apply binary search."
   ],
   "metadata": {
    "collapsed": false
   }
  },
  {
   "cell_type": "code",
   "execution_count": 16,
   "outputs": [],
   "source": [
    "from math import ceil\n",
    "\n",
    "def search(value, start=len(values)):\n",
    "    index_to_search = ceil(start / 2)\n",
    "\n",
    "    if index_to_search > len(values):\n",
    "        return False, -1\n",
    "\n",
    "    value_at_index = values[index_to_search]\n",
    "\n",
    "    if value_at_index == value:\n",
    "        return True, index_to_search\n",
    "\n",
    "    if index_to_search == 1:\n",
    "        if values[0] == value:\n",
    "            return True, index_to_search\n",
    "        return False, -1\n",
    "\n",
    "    new_start = ceil(start - start / 2) if value_at_index > value else ceil(start + start / 2)\n",
    "\n",
    "    return search(value, new_start)"
   ],
   "metadata": {
    "collapsed": false,
    "pycharm": {
     "name": "#%%\n"
    }
   }
  },
  {
   "cell_type": "markdown",
   "source": [
    "To implement the binary search, recursion is used.\n",
    "The parameters are:\n",
    "\n",
    "* value(value to search for)\n",
    "* start(index to start dividing at, default value = length of \"values\")\n",
    "\n",
    "Each time the function is called the start parameter gets halved and\n",
    "rounded up by the ceil function. We then check if the value to search for\n",
    "is at that index, if not we check if it's higher or lower.\n",
    "\n",
    "If it's higher we add to the start parameter with an amount of start / 2.\n",
    "\n",
    "If it's lower we lower remove from the start parameter with an amount of start / 2.\n",
    "\n",
    "To not make the function infinite, there are two base cases.\n",
    "\n",
    "The first base case we check if the index_to_search variable does not exceed the length\n",
    "of the list. If this happens then the value is not in the list.\n",
    "\n",
    "The second base case we check for the value manually at index 0 once start has reached\n",
    "1. This has to happen otherwise start will forever be stuck at 1.\n"
   ],
   "metadata": {
    "collapsed": false
   }
  },
  {
   "cell_type": "code",
   "execution_count": 17,
   "outputs": [
    {
     "data": {
      "text/plain": "(True, 1)"
     },
     "execution_count": 17,
     "metadata": {},
     "output_type": "execute_result"
    }
   ],
   "source": [
    "search(5)"
   ],
   "metadata": {
    "collapsed": false,
    "pycharm": {
     "name": "#%%\n"
    }
   }
  },
  {
   "cell_type": "markdown",
   "source": [
    "As you can see the value 5 is found at index 1."
   ],
   "metadata": {
    "collapsed": false
   }
  },
  {
   "cell_type": "code",
   "execution_count": 18,
   "outputs": [
    {
     "data": {
      "text/plain": "(True, 6)"
     },
     "execution_count": 18,
     "metadata": {},
     "output_type": "execute_result"
    }
   ],
   "source": [
    "search(23)\n"
   ],
   "metadata": {
    "collapsed": false,
    "pycharm": {
     "name": "#%%\n"
    }
   }
  },
  {
   "cell_type": "markdown",
   "source": [
    "As you can see the value 23 is found at index 6."
   ],
   "metadata": {
    "collapsed": false
   }
  },
  {
   "cell_type": "code",
   "execution_count": 19,
   "outputs": [
    {
     "data": {
      "text/plain": "(False, -1)"
     },
     "execution_count": 19,
     "metadata": {},
     "output_type": "execute_result"
    }
   ],
   "source": [
    "search(-10)"
   ],
   "metadata": {
    "collapsed": false,
    "pycharm": {
     "name": "#%%\n"
    }
   }
  },
  {
   "cell_type": "markdown",
   "source": [
    "As you can see the value -10 is not found."
   ],
   "metadata": {
    "collapsed": false
   }
  },
  {
   "cell_type": "code",
   "execution_count": 20,
   "outputs": [
    {
     "data": {
      "text/plain": "(False, -1)"
     },
     "execution_count": 20,
     "metadata": {},
     "output_type": "execute_result"
    }
   ],
   "source": [
    "search(100)"
   ],
   "metadata": {
    "collapsed": false,
    "pycharm": {
     "name": "#%%\n"
    }
   }
  },
  {
   "cell_type": "markdown",
   "source": [
    "As you can see the value 100 is not found."
   ],
   "metadata": {
    "collapsed": false
   }
  }
 ],
 "metadata": {
  "kernelspec": {
   "display_name": "Python 3",
   "language": "python",
   "name": "python3"
  },
  "language_info": {
   "codemirror_mode": {
    "name": "ipython",
    "version": 2
   },
   "file_extension": ".py",
   "mimetype": "text/x-python",
   "name": "python",
   "nbconvert_exporter": "python",
   "pygments_lexer": "ipython2",
   "version": "2.7.6"
  }
 },
 "nbformat": 4,
 "nbformat_minor": 0
}