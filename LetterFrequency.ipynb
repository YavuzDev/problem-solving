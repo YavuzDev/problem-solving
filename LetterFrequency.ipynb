{
 "cells": [
  {
   "cell_type": "code",
   "execution_count": 16,
   "metadata": {
    "collapsed": true
   },
   "outputs": [],
   "source": [
    "words = open(\"words.txt\").read().splitlines()"
   ]
  },
  {
   "cell_type": "markdown",
   "source": [
    "First we read the file in a list.\n",
    "Each element in the list will be a line from the file.\n",
    "So each element will be a single word in this case."
   ],
   "metadata": {
    "collapsed": false,
    "pycharm": {
     "name": "#%% md\n"
    }
   }
  },
  {
   "cell_type": "code",
   "execution_count": 17,
   "outputs": [],
   "source": [
    "letters = {}\n",
    "for word in words:\n",
    "    key = word[0].lower()\n",
    "    letters[key] = 1 if key not in letters else letters[key] + 1"
   ],
   "metadata": {
    "collapsed": false,
    "pycharm": {
     "name": "#%%\n"
    }
   }
  },
  {
   "cell_type": "markdown",
   "source": [
    "We first create a dictionary which will have a letter as a key and the value will be\n",
    "the amount of times it has been the first letter of a word.\n",
    "\n",
    "For each word we take the first letter by doing word[0] then we check if the dictionary\n",
    "contains it, if so we add 1 to the value otherwise we set the value to 1."
   ],
   "metadata": {
    "collapsed": false
   }
  },
  {
   "cell_type": "code",
   "execution_count": 18,
   "outputs": [
    {
     "data": {
      "text/plain": "30850"
     },
     "execution_count": 18,
     "metadata": {},
     "output_type": "execute_result"
    }
   ],
   "source": [
    "letters[\"a\"]"
   ],
   "metadata": {
    "collapsed": false,
    "pycharm": {
     "name": "#%%\n"
    }
   }
  },
  {
   "cell_type": "markdown",
   "source": [
    "As you can see words.txt contains 30850 words that start with the letter a."
   ],
   "metadata": {
    "collapsed": false
   }
  },
  {
   "cell_type": "code",
   "execution_count": 19,
   "outputs": [
    {
     "name": "stdout",
     "output_type": "stream",
     "text": [
      "2: 6\n",
      "1: 8\n",
      "&: 1\n",
      "3: 5\n",
      "4: 5\n",
      "5: 3\n",
      "6: 2\n",
      "7: 2\n",
      "8: 2\n",
      "9: 2\n",
      "a: 30850\n",
      "b: 24332\n",
      "c: 38933\n",
      "d: 22778\n",
      "': 33\n",
      "e: 16815\n",
      "f: 15870\n",
      "g: 14466\n",
      "h: 18662\n",
      "i: 15220\n",
      "y: 1740\n",
      "-: 4\n",
      "j: 4158\n",
      "k: 6167\n",
      "l: 14093\n",
      "m: 25194\n",
      "n: 16174\n",
      "o: 15061\n",
      "p: 40956\n",
      "q: 3218\n",
      "r: 21286\n",
      "s: 50571\n",
      "t: 25223\n",
      "u: 23791\n",
      "v: 6816\n",
      "w: 11672\n",
      "x: 609\n",
      "z: 1822\n"
     ]
    }
   ],
   "source": [
    "for key, value in letters.items():\n",
    "    print(f\"{key}: {value}\")"
   ],
   "metadata": {
    "collapsed": false,
    "pycharm": {
     "name": "#%%\n"
    }
   }
  }
 ],
 "metadata": {
  "kernelspec": {
   "display_name": "Python 3",
   "language": "python",
   "name": "python3"
  },
  "language_info": {
   "codemirror_mode": {
    "name": "ipython",
    "version": 2
   },
   "file_extension": ".py",
   "mimetype": "text/x-python",
   "name": "python",
   "nbconvert_exporter": "python",
   "pygments_lexer": "ipython2",
   "version": "2.7.6"
  }
 },
 "nbformat": 4,
 "nbformat_minor": 0
}