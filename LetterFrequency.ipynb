{
 "cells": [
  {
   "cell_type": "code",
   "execution_count": 12,
   "metadata": {
    "collapsed": true
   },
   "outputs": [],
   "source": [
    "words = open(\"words.txt\").read().splitlines()"
   ]
  },
  {
   "cell_type": "markdown",
   "source": [
    "First we read the file in a list.\n",
    "Each element in the list will be a line from the file.\n",
    "So each element will be a single word in this case."
   ],
   "metadata": {
    "collapsed": false,
    "pycharm": {
     "name": "#%% md\n"
    }
   }
  },
  {
   "cell_type": "code",
   "execution_count": 13,
   "outputs": [],
   "source": [
    "letters = {}\n",
    "for word in words:\n",
    "    key = word[0]\n",
    "    letters[key] = 1 if key not in letters else letters[key] + 1"
   ],
   "metadata": {
    "collapsed": false,
    "pycharm": {
     "name": "#%%\n"
    }
   }
  },
  {
   "cell_type": "markdown",
   "source": [
    "We first create a dictionary which will have a letter as a key and the value will be\n",
    "the amount of times it has been the first letter of a word.\n",
    "\n",
    "For each word we take the first letter by doing word[0] then we check if the dictionary\n",
    "contains it, if so we add 1 to the value otherwise we set the value to 1."
   ],
   "metadata": {
    "collapsed": false
   }
  },
  {
   "cell_type": "code",
   "execution_count": 14,
   "outputs": [
    {
     "data": {
      "text/plain": "24370"
     },
     "execution_count": 14,
     "metadata": {},
     "output_type": "execute_result"
    }
   ],
   "source": [
    "letters[\"a\"]"
   ],
   "metadata": {
    "collapsed": false,
    "pycharm": {
     "name": "#%%\n"
    }
   }
  },
  {
   "cell_type": "markdown",
   "source": [
    "As you can see words.txt contains 24370 words that start with the letter a."
   ],
   "metadata": {
    "collapsed": false
   }
  },
  {
   "cell_type": "code",
   "execution_count": 15,
   "outputs": [
    {
     "name": "stdout",
     "output_type": "stream",
     "text": [
      "2: 6\n",
      "1: 8\n",
      "&: 1\n",
      "3: 5\n",
      "4: 5\n",
      "5: 3\n",
      "6: 2\n",
      "7: 2\n",
      "8: 2\n",
      "9: 2\n",
      "a: 24370\n",
      "A: 6480\n",
      "B: 5363\n",
      "b: 18969\n",
      "C: 6701\n",
      "c: 32232\n",
      "D: 3411\n",
      "d: 19367\n",
      "': 33\n",
      "E: 2798\n",
      "e: 14017\n",
      "F: 2271\n",
      "f: 13599\n",
      "G: 3494\n",
      "g: 10972\n",
      "H: 3800\n",
      "h: 14862\n",
      "i: 13626\n",
      "y: 1245\n",
      "-: 4\n",
      "Y: 495\n",
      "I: 1594\n",
      "J: 1625\n",
      "j: 2533\n",
      "K: 2622\n",
      "k: 3545\n",
      "L: 3725\n",
      "l: 10368\n",
      "m: 19266\n",
      "M: 5928\n",
      "n: 13749\n",
      "N: 2425\n",
      "o: 13236\n",
      "O: 1825\n",
      "P: 5572\n",
      "p: 35384\n",
      "Q: 292\n",
      "q: 2926\n",
      "R: 2855\n",
      "r: 18431\n",
      "s: 43941\n",
      "S: 6630\n",
      "T: 4001\n",
      "t: 21222\n",
      "U: 889\n",
      "u: 22902\n",
      "V: 1364\n",
      "v: 5452\n",
      "W: 1945\n",
      "w: 9727\n",
      "X: 176\n",
      "x: 433\n",
      "Z: 638\n",
      "z: 1184\n"
     ]
    }
   ],
   "source": [
    "for key, value in letters.items():\n",
    "    print(f\"{key}: {value}\")"
   ],
   "metadata": {
    "collapsed": false,
    "pycharm": {
     "name": "#%%\n"
    }
   }
  }
 ],
 "metadata": {
  "kernelspec": {
   "display_name": "Python 3",
   "language": "python",
   "name": "python3"
  },
  "language_info": {
   "codemirror_mode": {
    "name": "ipython",
    "version": 2
   },
   "file_extension": ".py",
   "mimetype": "text/x-python",
   "name": "python",
   "nbconvert_exporter": "python",
   "pygments_lexer": "ipython2",
   "version": "2.7.6"
  }
 },
 "nbformat": 4,
 "nbformat_minor": 0
}