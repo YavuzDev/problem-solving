{
 "cells": [
  {
   "cell_type": "code",
   "execution_count": 24,
   "metadata": {
    "collapsed": true
   },
   "outputs": [],
   "source": [
    "words = open(\"words.txt\").read().splitlines()"
   ]
  },
  {
   "cell_type": "markdown",
   "source": [
    "First we read the file in a list.\n",
    "Each element in the list will be a line from the file.\n",
    "So each element will be a single word in this case."
   ],
   "metadata": {
    "collapsed": false
   }
  },
  {
   "cell_type": "code",
   "execution_count": 25,
   "outputs": [],
   "source": [
    "reversed_words = {}\n",
    "for word in words:\n",
    "    reversed_word = word[::-1].lower()\n",
    "    if reversed_word in reversed_words:\n",
    "        reversed_words[reversed_word].append(word)\n",
    "    else:\n",
    "        reversed_words[reversed_word] = [word]"
   ],
   "metadata": {
    "collapsed": false,
    "pycharm": {
     "name": "#%%\n"
    }
   }
  },
  {
   "cell_type": "markdown",
   "source": [
    "By using a dictionary, future look ups will be O(1).\n",
    "The key for the dictionary will be the word reversed.\n",
    "The value is a list of words that match the key."
   ],
   "metadata": {
    "collapsed": false
   }
  },
  {
   "cell_type": "code",
   "execution_count": 26,
   "outputs": [
    {
     "data": {
      "text/plain": "['Dino', 'dino']"
     },
     "execution_count": 26,
     "metadata": {},
     "output_type": "execute_result"
    }
   ],
   "source": [
    "input_word = \"dino\"[::-1].lower()\n",
    "reversed_words[input_word]"
   ],
   "metadata": {
    "collapsed": false,
    "pycharm": {
     "name": "#%%\n"
    }
   }
  },
  {
   "cell_type": "markdown",
   "source": [],
   "metadata": {
    "collapsed": false
   }
  }
 ],
 "metadata": {
  "kernelspec": {
   "display_name": "Python 3",
   "language": "python",
   "name": "python3"
  },
  "language_info": {
   "codemirror_mode": {
    "name": "ipython",
    "version": 2
   },
   "file_extension": ".py",
   "mimetype": "text/x-python",
   "name": "python",
   "nbconvert_exporter": "python",
   "pygments_lexer": "ipython2",
   "version": "2.7.6"
  }
 },
 "nbformat": 4,
 "nbformat_minor": 0
}