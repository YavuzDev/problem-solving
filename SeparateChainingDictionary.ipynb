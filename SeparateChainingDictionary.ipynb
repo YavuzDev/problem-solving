{
 "cells": [
  {
   "cell_type": "code",
   "execution_count": 16,
   "metadata": {
    "collapsed": true
   },
   "outputs": [],
   "source": [
    "class SeparateChainingDictionary:\n",
    "\n",
    "    def __init__(self):\n",
    "        self.values = [None] * 100\n",
    "\n",
    "    def put(self, key, value):\n",
    "        hashed = hash(key)\n",
    "        if hashed > len(self.values):\n",
    "            self.resize(hashed + 1)\n",
    "        if self.values[hashed] is None:\n",
    "            self.values[hashed] = [value]\n",
    "        else:\n",
    "            self.values[hashed].append(value)\n",
    "\n",
    "    def resize(self, new_length):\n",
    "        old_length = len(self.values)\n",
    "        new_values = [None] * new_length\n",
    "        for i in range(old_length):\n",
    "            new_values[i] = self.values[i]\n",
    "        self.values = new_values\n",
    "\n",
    "    def get(self, key):\n",
    "        return self.values[hash(key)]"
   ]
  },
  {
   "cell_type": "code",
   "execution_count": 17,
   "outputs": [
    {
     "data": {
      "text/plain": "['test', 'testing']"
     },
     "execution_count": 17,
     "metadata": {},
     "output_type": "execute_result"
    }
   ],
   "source": [
    "separate_dict = SeparateChainingDictionary()\n",
    "separate_dict.put(1, \"test\")\n",
    "separate_dict.put(1, \"testing\")\n",
    "separate_dict.put(5000, \"new\")\n",
    "separate_dict.put(5000, \"newer\")\n",
    "\n",
    "separate_dict.get(1)"
   ],
   "metadata": {
    "collapsed": false,
    "pycharm": {
     "name": "#%%\n"
    }
   }
  },
  {
   "cell_type": "markdown",
   "source": [
    "Each index has a separate list so we can store multiple values per key.\n"
   ],
   "metadata": {
    "collapsed": false
   }
  }
 ],
 "metadata": {
  "kernelspec": {
   "display_name": "Python 3",
   "language": "python",
   "name": "python3"
  },
  "language_info": {
   "codemirror_mode": {
    "name": "ipython",
    "version": 2
   },
   "file_extension": ".py",
   "mimetype": "text/x-python",
   "name": "python",
   "nbconvert_exporter": "python",
   "pygments_lexer": "ipython2",
   "version": "2.7.6"
  }
 },
 "nbformat": 4,
 "nbformat_minor": 0
}