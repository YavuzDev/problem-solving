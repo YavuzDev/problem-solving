{
 "cells": [
  {
   "cell_type": "code",
   "execution_count": 4,
   "metadata": {
    "collapsed": true,
    "pycharm": {
     "name": "#%%\n"
    }
   },
   "outputs": [],
   "source": [
    "class Board:\n",
    "\n",
    "    def __init__(self, rows):\n",
    "        self.rows = rows\n",
    "        self.board = [\"-\" for i in range(rows * rows)]\n",
    "\n",
    "    def output(self):\n",
    "        for i in range(self.rows):\n",
    "            print(\"|\", end=\"\")\n",
    "            for j in range(self.rows):\n",
    "                print(self.board[(i * self.rows) + j], end=\"\")\n",
    "                print(\"|\", end=\"\")\n",
    "            print()"
   ]
  },
  {
   "cell_type": "code",
   "execution_count": 5,
   "outputs": [
    {
     "name": "stdout",
     "output_type": "stream",
     "text": [
      "|-|-|-|-|\n",
      "|-|-|-|-|\n",
      "|-|-|-|-|\n",
      "|-|-|-|-|\n"
     ]
    }
   ],
   "source": [
    "board = Board(4)\n",
    "board.output()"
   ],
   "metadata": {
    "collapsed": false,
    "pycharm": {
     "name": "#%%\n"
    }
   }
  },
  {
   "cell_type": "code",
   "execution_count": 6,
   "outputs": [
    {
     "name": "stdout",
     "output_type": "stream",
     "text": [
      "|-|-|-|\n",
      "|-|-|-|\n",
      "|-|-|-|\n"
     ]
    }
   ],
   "source": [
    "board = Board(3)\n",
    "board.output()"
   ],
   "metadata": {
    "collapsed": false,
    "pycharm": {
     "name": "#%%\n"
    }
   }
  },
  {
   "cell_type": "markdown",
   "source": [
    "As you can see the board can have a variable size."
   ],
   "metadata": {
    "collapsed": false
   }
  }
 ],
 "metadata": {
  "kernelspec": {
   "display_name": "Python 3",
   "language": "python",
   "name": "python3"
  },
  "language_info": {
   "codemirror_mode": {
    "name": "ipython",
    "version": 2
   },
   "file_extension": ".py",
   "mimetype": "text/x-python",
   "name": "python",
   "nbconvert_exporter": "python",
   "pygments_lexer": "ipython2",
   "version": "2.7.6"
  }
 },
 "nbformat": 4,
 "nbformat_minor": 0
}