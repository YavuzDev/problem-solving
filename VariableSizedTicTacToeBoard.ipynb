{
 "cells": [
  {
   "cell_type": "code",
   "execution_count": 10,
   "metadata": {
    "collapsed": true,
    "pycharm": {
     "name": "#%%\n"
    }
   },
   "outputs": [],
   "source": [
    "class Board:\n",
    "\n",
    "    def __init__(self, rows):\n",
    "        self.rows = rows\n",
    "        self.board = [f\"{i}\" for i in range(rows * rows)]\n",
    "\n",
    "    def output(self):\n",
    "        for i in range(self.rows):\n",
    "            print(\"|\", end=\"\")\n",
    "            for j in range(self.rows):\n",
    "                print(self.board[(i * self.rows) + j], end=\"\")\n",
    "                print(\"|\", end=\"\")\n",
    "            print()"
   ]
  },
  {
   "cell_type": "code",
   "execution_count": 11,
   "outputs": [
    {
     "name": "stdout",
     "output_type": "stream",
     "text": [
      "|0|1|2|3|\n",
      "|4|5|6|7|\n",
      "|8|9|10|11|\n",
      "|12|13|14|15|\n"
     ]
    }
   ],
   "source": [
    "board = Board(4)\n",
    "board.output()"
   ],
   "metadata": {
    "collapsed": false,
    "pycharm": {
     "name": "#%%\n"
    }
   }
  },
  {
   "cell_type": "code",
   "execution_count": 12,
   "outputs": [
    {
     "name": "stdout",
     "output_type": "stream",
     "text": [
      "|0|1|2|\n",
      "|3|4|5|\n",
      "|6|7|8|\n"
     ]
    }
   ],
   "source": [
    "board = Board(3)\n",
    "board.output()"
   ],
   "metadata": {
    "collapsed": false,
    "pycharm": {
     "name": "#%%\n"
    }
   }
  },
  {
   "cell_type": "markdown",
   "source": [
    "As you can see the board can have a variable size."
   ],
   "metadata": {
    "collapsed": false
   }
  }
 ],
 "metadata": {
  "kernelspec": {
   "display_name": "Python 3",
   "language": "python",
   "name": "python3"
  },
  "language_info": {
   "codemirror_mode": {
    "name": "ipython",
    "version": 2
   },
   "file_extension": ".py",
   "mimetype": "text/x-python",
   "name": "python",
   "nbconvert_exporter": "python",
   "pygments_lexer": "ipython2",
   "version": "2.7.6"
  }
 },
 "nbformat": 4,
 "nbformat_minor": 0
}