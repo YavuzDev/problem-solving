{
 "cells": [
  {
   "cell_type": "code",
   "execution_count": 5,
   "metadata": {
    "collapsed": true
   },
   "outputs": [],
   "source": [
    "from abc import abstractmethod, ABC\n",
    "from typing import Any\n",
    "\n",
    "class Expression(ABC):\n",
    "\n",
    "    @abstractmethod\n",
    "    def accept(self) -> Any:\n",
    "        pass"
   ]
  },
  {
   "cell_type": "code",
   "execution_count": 6,
   "outputs": [],
   "source": [
    "class NumberExpression(Expression):\n",
    "\n",
    "    def __init__(self, number):\n",
    "        self.number = number\n",
    "\n",
    "    def accept(self) -> Any:\n",
    "        return self.number"
   ],
   "metadata": {
    "collapsed": false,
    "pycharm": {
     "name": "#%%\n"
    }
   }
  },
  {
   "cell_type": "code",
   "execution_count": 7,
   "outputs": [],
   "source": [
    "class AddExpression(Expression):\n",
    "\n",
    "    def __init__(self, left_expression, right_expression):\n",
    "        self.left_expression = left_expression\n",
    "        self.right_expression = right_expression\n",
    "\n",
    "    def accept(self) -> Any:\n",
    "        return self.left_expression.accept() + self.right_expression.accept()"
   ],
   "metadata": {
    "collapsed": false,
    "pycharm": {
     "name": "#%%\n"
    }
   }
  },
  {
   "cell_type": "code",
   "execution_count": 8,
   "outputs": [
    {
     "data": {
      "text/plain": "6"
     },
     "execution_count": 8,
     "metadata": {},
     "output_type": "execute_result"
    }
   ],
   "source": [
    "test_expression = AddExpression(AddExpression(NumberExpression(1), NumberExpression(2)), NumberExpression(3))\n",
    "test_expression.accept()"
   ],
   "metadata": {
    "collapsed": false,
    "pycharm": {
     "name": "#%%\n"
    }
   }
  },
  {
   "cell_type": "markdown",
   "source": [
    "The expression returns 6, the visitor pattern works by accepting the function\n",
    "and going \"down the tree\". For example the AddExpression has a left expression\n",
    "which has another AddExpresion which have 2 number expression which we add to\n",
    "the right expression of the original AddExpression."
   ],
   "metadata": {
    "collapsed": false
   }
  }
 ],
 "metadata": {
  "kernelspec": {
   "display_name": "Python 3",
   "language": "python",
   "name": "python3"
  },
  "language_info": {
   "codemirror_mode": {
    "name": "ipython",
    "version": 2
   },
   "file_extension": ".py",
   "mimetype": "text/x-python",
   "name": "python",
   "nbconvert_exporter": "python",
   "pygments_lexer": "ipython2",
   "version": "2.7.6"
  }
 },
 "nbformat": 4,
 "nbformat_minor": 0
}